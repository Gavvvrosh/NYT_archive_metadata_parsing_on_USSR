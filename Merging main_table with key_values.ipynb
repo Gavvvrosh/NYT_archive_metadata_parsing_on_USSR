{
 "cells": [
  {
   "cell_type": "code",
   "execution_count": 1,
   "id": "29e89d4b",
   "metadata": {},
   "outputs": [],
   "source": [
    "import pandas as pd"
   ]
  },
  {
   "cell_type": "code",
   "execution_count": 14,
   "id": "1dcbdb14",
   "metadata": {},
   "outputs": [],
   "source": [
    "# импортируем данные из исходного датасета\n",
    "main_table = pd.read_excel('final_7_key_words(with tab delimeter).xlsx')"
   ]
  },
  {
   "cell_type": "code",
   "execution_count": 17,
   "id": "8ddb420c",
   "metadata": {},
   "outputs": [],
   "source": [
    "# оставляем в основной таблице только необходимые поля (ниже дропнули только 'keywords')\n",
    "main_table = main_table.loc[:,['abstract','web_url','lead_paragraph', 'print_section', 'print_page', 'pub_date', 'news_desk', 'type_of_material', '_id', 'word_count', 'headline.main', 'headline.kicker', 'headline.print_headline', 'byline.original', 'byline.person', 'byline.organization']]"
   ]
  },
  {
   "cell_type": "code",
   "execution_count": 10,
   "id": "d9ddb9e8",
   "metadata": {},
   "outputs": [],
   "source": [
    "# импортируем данные со значениями сущностей из поля 'keywords' исходного датасета\n",
    "keys = pd.read_excel('id_keywords(all).xlsx')"
   ]
  },
  {
   "cell_type": "code",
   "execution_count": 20,
   "id": "f8a698bc",
   "metadata": {
    "scrolled": true
   },
   "outputs": [],
   "source": [
    "# переименовываем названия колонок для более наглядного нэйминга в итоговой таблице\n",
    "keys = keys.rename(columns= {\"name\": \"key_name\", \"value\": \"key_value\", \"rank\": \"key_rank\", \"major\": \"key_major\"})"
   ]
  },
  {
   "cell_type": "code",
   "execution_count": 21,
   "id": "f47a8228",
   "metadata": {},
   "outputs": [],
   "source": [
    "# делаем итоговую таблицу: джойним/присоединем к основной поля из таблицы keys по полю '_id'\n",
    "merged_table = pd.merge(main_table, keys, how = 'left', on = '_id')"
   ]
  },
  {
   "cell_type": "code",
   "execution_count": 23,
   "id": "e06551b5",
   "metadata": {},
   "outputs": [],
   "source": [
    "# сохраняем полученную таблицу в excel\n",
    "merged_table.to_excel('merged_table_with_key_values.xlsx')"
   ]
  }
 ],
 "metadata": {
  "kernelspec": {
   "display_name": "Python 3 (ipykernel)",
   "language": "python",
   "name": "python3"
  },
  "language_info": {
   "codemirror_mode": {
    "name": "ipython",
    "version": 3
   },
   "file_extension": ".py",
   "mimetype": "text/x-python",
   "name": "python",
   "nbconvert_exporter": "python",
   "pygments_lexer": "ipython3",
   "version": "3.12.4"
  }
 },
 "nbformat": 4,
 "nbformat_minor": 5
}
