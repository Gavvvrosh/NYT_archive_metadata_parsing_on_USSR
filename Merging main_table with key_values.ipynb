import pandas as pd

# импортируем данные из исходного датасета
main_table = pd.read_excel('final_7_key_words(with tab delimeter).xlsx')

# оставляем в основной таблице только необходимые поля (ниже дропнули только 'keywords')
main_table = main_table.loc[:,['abstract','web_url','lead_paragraph', 'print_section', 'print_page', 'pub_date', 'news_desk', 'type_of_material', '_id', 'word_count', 'headline.main', 'headline.kicker', 'headline.print_headline', 'byline.original', 'byline.person', 'byline.organization']]

# импортируем данные со значениями сущностей из поля 'keywords' исходного датасета
keys = pd.read_excel('id_keywords(all).xlsx')

# переименовываем названия колонок для более наглядного нэйминга в итоговой таблице
keys = keys.rename(columns= {"name": "key_name", "value": "key_value", "rank": "key_rank", "major": "key_major"})

# делаем итоговую таблицу: джойним/присоединем к основной поля из таблицы keys по полю '_id'
merged_table = pd.merge(main_table, keys, how = 'left', on = '_id')

# сохраняем полученную таблицу в excel
merged_table.to_excel('merged_table_with_key_values.xlsx')
