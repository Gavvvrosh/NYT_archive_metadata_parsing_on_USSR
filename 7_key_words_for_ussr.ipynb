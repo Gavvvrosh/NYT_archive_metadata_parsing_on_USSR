{
 "cells": [
  {
   "cell_type": "code",
   "execution_count": 1,
   "id": "0ee79481",
   "metadata": {},
   "outputs": [],
   "source": [
    "keywords_list = ['Russians', 'Russian', 'Russia', 'Soviet', 'USSR', 'Stalin', 'Moscow']"
   ]
  },
  {
   "cell_type": "code",
   "execution_count": 3,
   "id": "4a937737",
   "metadata": {},
   "outputs": [],
   "source": [
    "# присваеваем значение для переменной, определяющей \"шаг\" интервала времени, в днях\n",
    "delta = 29"
   ]
  },
  {
   "cell_type": "code",
   "execution_count": 4,
   "id": "49cb19f3",
   "metadata": {},
   "outputs": [],
   "source": [
    "# импортируем библиотеку NYTAPI с помощью которой будем обращаться к электронному архиву Нью-Йорк Таймс через API (https://github.com/michadenheijer/pynytimes/tree/0.8.0)\n",
    "from pynytimes import NYTAPI\n",
    "import datetime as datetime\n",
    "\n",
    "# Import required libraries\n",
    "import time\n",
    "import pandas as pd\n",
    "from datetime import datetime as datetime_2\n",
    "\n",
    "# ключ API, полученный в личном кабинете на сайте NYT\n",
    "api_key = \"<your_key_value_here>\"\n",
    "\n",
    "# инициализируем NYTAPI, применяя свой ключ, полученный в личном кабинете (инструкции здесь: https://developer.nytimes.com/get-started)\n",
    "nyt = NYTAPI(api_key, parse_dates=True)\n",
    "\n",
    "# задаем начало и конец периода для поиска статей именно в этом интервале за \"шаг\"\n",
    "begin = datetime_2(1941, 6, 22) \n",
    "end = begin + datetime.timedelta(days=delta)\n",
    "# создаем словарь со значениями нашего окна поиска по датам\n",
    "date_dict = {\"begin\": begin, \"end\": end}\n",
    "\n",
    "# дополнительный словарь где определяются дополнительные параметры посика. Все параметры закомментены, корме опции сортировки результатов от старых к новым\n",
    "options_dict = {\n",
    "    # Sort from earliest to latest\n",
    "    \"sort\": \"oldest\",\n",
    "    # Return only articles from New York Times (filters out other sources such as AP and Reuters)\n",
    "    #\"sources\": [\"New York Times\"],\n",
    "    # Return only news, analyses, and articles\n",
    "    #\"type_of_material\": [\"News Analysis\", \"News\", \"Article\"]\n",
    "}\n"
   ]
  },
  {
   "cell_type": "code",
   "execution_count": 5,
   "id": "41889eb3",
   "metadata": {},
   "outputs": [
    {
     "name": "stderr",
     "output_type": "stream",
     "text": [
      "C:\\ProgramData\\anaconda3\\Lib\\site-packages\\pynytimes\\helpers\\article_search.py:33: UserWarning: Asking for a lot of results, because of rate limits it can take a while.\n",
      "  warnings.warn(\n"
     ]
    }
   ],
   "source": [
    "articles = []\n",
    "# ограничиваем кол-во шагов в цикле (кол-во окон по датам) 2 циклами. Подобрано экспериментальным путем. Если больше, то цикл не завершается, упираясь в лимиты NYT по кол-ву запросов API в сутки \n",
    "for i in range(2):\n",
    "    for key_word in keywords_list:\n",
    "        articles_for_cycle = nyt.article_search(\n",
    "            query = key_word,\n",
    "            results=400,\n",
    "            dates=date_dict,\n",
    "            options=options_dict)\n",
    "        for item in articles_for_cycle:\n",
    "            if item not in articles:\n",
    "                articles.append(item)\n",
    "                \n",
    "        # выводим кол-во статей для каждого ключевого слова из списка\n",
    "        print(key_word + \": Length of list with aticles is \" + str(len(articles)))\n",
    "    # выводим кол-во статей после завершения поиска для каждого окна дат\n",
    "    print(str(i+1) + \" step (\" + str(begin) + \" - \" + str(end) + \"). \" + \"Rows in the list of articles: \" + str(len(articles)) + \" rows\")\n",
    "\n",
    "    # смещаем окно поиска по датам на delta\n",
    "    begin += datetime.timedelta(days=delta+1)\n",
    "    end += datetime.timedelta(days=delta+1)\n",
    "    date_dict = {\"begin\": begin,  \"end\": end}\n",
    "    \n",
    "    # пауза 5 сек перед следующим обращением\n",
    "    time.sleep(5)"
   ]
  },
  {
   "cell_type": "code",
   "execution_count": 13,
   "id": "448b989e",
   "metadata": {},
   "outputs": [],
   "source": [
    "final_articles = articles[:]"
   ]
  },
  {
   "cell_type": "code",
   "execution_count": 15,
   "id": "fd1cb4fc",
   "metadata": {},
   "outputs": [],
   "source": [
    "# преобразуем json в dataframe \n",
    "df = pd.json_normalize(final_articles)"
   ]
  },
  {
   "cell_type": "code",
   "execution_count": null,
   "id": "e015b868",
   "metadata": {},
   "outputs": [],
   "source": [
    "# сохраняем DataFrame в таблицу формата csv  (изенить параметр на HEADER = TRUE если это  первый цикл и таблица создается впервые)\n",
    "df.to_csv('RAW final_7_key_words(with tab delimeter).csv', sep='\\t', encoding='utf-8', mode='a', header=True)"
   ]
  },
  {
   "cell_type": "code",
   "execution_count": 17,
   "id": "a1fd4f5b",
   "metadata": {},
   "outputs": [],
   "source": [
    "# здесь оставляем только интрересующие нас поля для дальнейшего анализа\n",
    "df = df.loc[:,['abstract','web_url','lead_paragraph', 'print_section', 'print_page', 'keywords', 'pub_date', 'news_desk', 'type_of_material', '_id', 'word_count', 'headline.main', 'headline.kicker', 'headline.print_headline', 'byline.original', 'byline.person', 'byline.organization']]"
   ]
  },
  {
   "cell_type": "code",
   "execution_count": 18,
   "id": "dc2331e3",
   "metadata": {
    "scrolled": true
   },
   "outputs": [
    {
     "name": "stdout",
     "output_type": "stream",
     "text": [
      "<class 'pandas.core.frame.DataFrame'>\n",
      "RangeIndex: 1590 entries, 0 to 1589\n",
      "Data columns (total 17 columns):\n",
      " #   Column                   Non-Null Count  Dtype              \n",
      "---  ------                   --------------  -----              \n",
      " 0   abstract                 1590 non-null   object             \n",
      " 1   web_url                  1590 non-null   object             \n",
      " 2   lead_paragraph           1590 non-null   object             \n",
      " 3   print_section            279 non-null    object             \n",
      " 4   print_page               1587 non-null   object             \n",
      " 5   keywords                 1590 non-null   object             \n",
      " 6   pub_date                 1590 non-null   datetime64[ns, UTC]\n",
      " 7   news_desk                1590 non-null   object             \n",
      " 8   type_of_material         1590 non-null   object             \n",
      " 9   _id                      1590 non-null   object             \n",
      " 10  word_count               1590 non-null   int64              \n",
      " 11  headline.main            1590 non-null   object             \n",
      " 12  headline.kicker          256 non-null    object             \n",
      " 13  headline.print_headline  1590 non-null   object             \n",
      " 14  byline.original          819 non-null    object             \n",
      " 15  byline.person            1590 non-null   object             \n",
      " 16  byline.organization      48 non-null     object             \n",
      "dtypes: datetime64[ns, UTC](1), int64(1), object(15)\n",
      "memory usage: 211.3+ KB\n"
     ]
    }
   ],
   "source": [
    "# оцениваем верхнеуровнево качесвто данных, а именно сколько пустых значений в полях\n",
    "df.info()"
   ]
  },
  {
   "cell_type": "code",
   "execution_count": 19,
   "id": "dd1cd771",
   "metadata": {},
   "outputs": [],
   "source": [
    "# сохраняем таблицу в формате csv\n",
    "df.to_csv('final_7_key_words(with tab delimeter).csv', sep='\\t', encoding='utf-8', mode='a', header=True)"
   ]
  }
 ],
 "metadata": {
  "kernelspec": {
   "display_name": "Python 3 (ipykernel)",
   "language": "python",
   "name": "python3"
  },
  "language_info": {
   "codemirror_mode": {
    "name": "ipython",
    "version": 3
   },
   "file_extension": ".py",
   "mimetype": "text/x-python",
   "name": "python",
   "nbconvert_exporter": "python",
   "pygments_lexer": "ipython3",
   "version": "3.11.4"
  }
 },
 "nbformat": 4,
 "nbformat_minor": 5
}
