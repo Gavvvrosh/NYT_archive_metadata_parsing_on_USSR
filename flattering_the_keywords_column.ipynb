{
 "cells": [
  {
   "cell_type": "code",
   "execution_count": 1,
   "id": "a4e36b09-c0e9-494d-ac92-d04be56ae003",
   "metadata": {},
   "outputs": [],
   "source": [
    "# импортируем необходимые библиотеки python\n",
    "import pandas as pd\n",
    "from ast import literal_eval"
   ]
  },
  {
   "cell_type": "code",
   "execution_count": 7,
   "id": "737f6317-a2b8-42ca-a36b-7c2a5fc979c2",
   "metadata": {},
   "outputs": [],
   "source": [
    "# указываем путь и название таблицы, где сохранены результаты сбора метаданных статей The New York Times\n",
    "df = pd.read_csv('final_7_key_words(with tab delimeter).csv', usecols = ['_id', 'keywords'], sep = '\\t', encoding = 'UTF-8', converters={'keywords':literal_eval})\n",
    "\n",
    "# оставляем только два необходимых сейчас поля: _id, keywords\n",
    "df = df.loc[:,['_id', 'keywords']]"
   ]
  },
  {
   "cell_type": "code",
   "execution_count": 9,
   "id": "85552a0f-36e7-4e82-a384-5039a6b41199",
   "metadata": {},
   "outputs": [],
   "source": [
    "# в поле keywords хранится информация в формате dictionary, \n",
    "# т.е. для одной строки/статьи там может быть несколько значений для ключевых параметорв статьи (person, subject, location etc.)\n",
    "# Ниже код функции которая позволит получить \"длинную\" таблицу, добавив новые поля и увеличив кол-во строк\n",
    "def flatten_dict(df, col):\n",
    "    \"\"\"\n",
    "    Разворачивает столбец со списками словарей в DataFrame в отдельные строки.\n",
    "    \n",
    "    Аргументы:\n",
    "        df: DataFrame.\n",
    "        col: Имя столбца, содержащего списки словарей.\n",
    "    \n",
    "    Возвращает:\n",
    "        Новый DataFrame с развернутыми данными.\n",
    "    \"\"\"\n",
    "    new_rows = []\n",
    "    for i in df.index:\n",
    "        # Check if the element is a list of dictionaries\n",
    "        if isinstance(df.loc[i, col], list): \n",
    "            for d in df.loc[i, col]:\n",
    "                row = {'_id': df.loc[i, '_id']}\n",
    "                row.update(d)\n",
    "                new_rows.append(row)\n",
    "        else:\n",
    "            # If it's a single dictionary, just add it directly\n",
    "            row = {'_id': df.loc[i, '_id']}\n",
    "            row.update(df.loc[i, col])\n",
    "            new_rows.append(row)\n",
    "\n",
    "    return pd.DataFrame(new_rows)"
   ]
  },
  {
   "cell_type": "code",
   "execution_count": 11,
   "id": "0b70ebac-645b-4bb5-91f0-fb3c9390b9ba",
   "metadata": {},
   "outputs": [],
   "source": [
    "df_flat = flatten_dict(df, 'keywords')"
   ]
  },
  {
   "cell_type": "code",
   "execution_count": 15,
   "id": "69aaaacc",
   "metadata": {},
   "outputs": [],
   "source": [
    "# Сохраняем полученный датафрейм с \"развернутым\" полем keywords в таблицу excel\n",
    "df_flat.to_excel('id_keywords(all).xlsx', index=False)"
   ]
  }
 ],
 "metadata": {
  "kernelspec": {
   "display_name": "Python 3 (ipykernel)",
   "language": "python",
   "name": "python3"
  },
  "language_info": {
   "codemirror_mode": {
    "name": "ipython",
    "version": 3
   },
   "file_extension": ".py",
   "mimetype": "text/x-python",
   "name": "python",
   "nbconvert_exporter": "python",
   "pygments_lexer": "ipython3",
   "version": "3.12.4"
  }
 },
 "nbformat": 4,
 "nbformat_minor": 5
}
